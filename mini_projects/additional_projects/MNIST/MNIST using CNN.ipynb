{
 "cells": [
  {
   "cell_type": "code",
   "execution_count": 1,
   "id": "5457be95-86cb-47c9-bc7f-b1e1b6b12dc1",
   "metadata": {},
   "outputs": [],
   "source": [
    "import torch\n",
    "import torch.nn as nn\n",
    "import torch.nn.functional as F\n",
    "import numpy as np\n",
    "import pandas as pd\n",
    "from torch.utils.data import DataLoader\n",
    "from torchvision import datasets, transforms\n",
    "from torchvision.utils import make_grid\n",
    "import matplotlib.pyplot as plt\n",
    "%matplotlib inline"
   ]
  },
  {
   "cell_type": "code",
   "execution_count": 3,
   "id": "ee13d2bf-171f-49df-9c77-0fe17299904d",
   "metadata": {},
   "outputs": [],
   "source": [
    "transform =transforms.ToTensor()"
   ]
  },
  {
   "cell_type": "code",
   "execution_count": 5,
   "id": "263e1b67-b0e3-4bcf-bc70-9e2227cc1b35",
   "metadata": {},
   "outputs": [
    {
     "name": "stdout",
     "output_type": "stream",
     "text": [
      "Downloading http://yann.lecun.com/exdb/mnist/train-images-idx3-ubyte.gz\n",
      "Failed to download (trying next):\n",
      "HTTP Error 403: Forbidden\n",
      "\n",
      "Downloading https://ossci-datasets.s3.amazonaws.com/mnist/train-images-idx3-ubyte.gz\n",
      "Downloading https://ossci-datasets.s3.amazonaws.com/mnist/train-images-idx3-ubyte.gz to E:/github/mini_projects\\MNIST\\raw\\train-images-idx3-ubyte.gz\n"
     ]
    },
    {
     "name": "stderr",
     "output_type": "stream",
     "text": [
      "100%|██████████| 9912422/9912422 [00:06<00:00, 1529662.33it/s]\n"
     ]
    },
    {
     "name": "stdout",
     "output_type": "stream",
     "text": [
      "Extracting E:/github/mini_projects\\MNIST\\raw\\train-images-idx3-ubyte.gz to E:/github/mini_projects\\MNIST\\raw\n",
      "\n",
      "Downloading http://yann.lecun.com/exdb/mnist/train-labels-idx1-ubyte.gz\n",
      "Failed to download (trying next):\n",
      "HTTP Error 403: Forbidden\n",
      "\n",
      "Downloading https://ossci-datasets.s3.amazonaws.com/mnist/train-labels-idx1-ubyte.gz\n",
      "Downloading https://ossci-datasets.s3.amazonaws.com/mnist/train-labels-idx1-ubyte.gz to E:/github/mini_projects\\MNIST\\raw\\train-labels-idx1-ubyte.gz\n"
     ]
    },
    {
     "name": "stderr",
     "output_type": "stream",
     "text": [
      "100%|██████████| 28881/28881 [00:00<00:00, 87281.23it/s]\n"
     ]
    },
    {
     "name": "stdout",
     "output_type": "stream",
     "text": [
      "Extracting E:/github/mini_projects\\MNIST\\raw\\train-labels-idx1-ubyte.gz to E:/github/mini_projects\\MNIST\\raw\n",
      "\n",
      "Downloading http://yann.lecun.com/exdb/mnist/t10k-images-idx3-ubyte.gz\n",
      "Failed to download (trying next):\n",
      "HTTP Error 403: Forbidden\n",
      "\n",
      "Downloading https://ossci-datasets.s3.amazonaws.com/mnist/t10k-images-idx3-ubyte.gz\n",
      "Downloading https://ossci-datasets.s3.amazonaws.com/mnist/t10k-images-idx3-ubyte.gz to E:/github/mini_projects\\MNIST\\raw\\t10k-images-idx3-ubyte.gz\n"
     ]
    },
    {
     "name": "stderr",
     "output_type": "stream",
     "text": [
      "100%|██████████| 1648877/1648877 [00:01<00:00, 841636.93it/s] \n"
     ]
    },
    {
     "name": "stdout",
     "output_type": "stream",
     "text": [
      "Extracting E:/github/mini_projects\\MNIST\\raw\\t10k-images-idx3-ubyte.gz to E:/github/mini_projects\\MNIST\\raw\n",
      "\n",
      "Downloading http://yann.lecun.com/exdb/mnist/t10k-labels-idx1-ubyte.gz\n",
      "Failed to download (trying next):\n",
      "HTTP Error 403: Forbidden\n",
      "\n",
      "Downloading https://ossci-datasets.s3.amazonaws.com/mnist/t10k-labels-idx1-ubyte.gz\n",
      "Downloading https://ossci-datasets.s3.amazonaws.com/mnist/t10k-labels-idx1-ubyte.gz to E:/github/mini_projects\\MNIST\\raw\\t10k-labels-idx1-ubyte.gz\n"
     ]
    },
    {
     "name": "stderr",
     "output_type": "stream",
     "text": [
      "100%|██████████| 4542/4542 [00:00<?, ?it/s]"
     ]
    },
    {
     "name": "stdout",
     "output_type": "stream",
     "text": [
      "Extracting E:/github/mini_projects\\MNIST\\raw\\t10k-labels-idx1-ubyte.gz to E:/github/mini_projects\\MNIST\\raw\n",
      "\n"
     ]
    },
    {
     "name": "stderr",
     "output_type": "stream",
     "text": [
      "\n"
     ]
    }
   ],
   "source": [
    "train_data=datasets.MNIST(root=\"E:/github/mini_projects\",train=True,download=True,transform=transform)\n",
    "test_data=datasets.MNIST(root=\"E:/github/mini_projects\",train=True,download=True,transform=transform)"
   ]
  },
  {
   "cell_type": "code",
   "execution_count": 6,
   "id": "eeafa4a2-1463-450e-a891-8c9639c65c4b",
   "metadata": {},
   "outputs": [],
   "source": [
    "train_loader=DataLoader(train_data,batch_size=10,shuffle=True)\n",
    "test_loader=DataLoader(test_data,batch_size=10,shuffle=True)"
   ]
  },
  {
   "cell_type": "code",
   "execution_count": 7,
   "id": "3980c528-2340-455c-8d86-2709e38396c4",
   "metadata": {},
   "outputs": [],
   "source": [
    "class ConvolutionalNetwork(nn.Module):\n",
    "    def __init__(self):\n",
    "        super().__init__()\n",
    "        self.conv1=nn.Conv2d(1,6,3,1)\n",
    "        self.conv2=nn.Conv2d(6,16,3,1)\n",
    "        self.fc1=nn.Linear(5*5*16,120)\n",
    "        self.fc2=nn.Linear(120,84)\n",
    "        self.fc3=nn.Linear(84,10)\n",
    "\n",
    "    def forward(self,x):\n",
    "        x=F.relu(self.conv1(x))\n",
    "        x=F.max_pool2d(x,2,2)\n",
    "        x=F.relu(self.conv2(x))\n",
    "        x=F.max_pool2d(x,2,2)\n",
    "        x=x.view(-1,16*5*5)\n",
    "        x=F.relu(self.fc1(x))\n",
    "        x=F.relu(self.fc2(x))\n",
    "        x=self.fc3(x)\n",
    "        return F.log_softmax(x,dim=1)"
   ]
  },
  {
   "cell_type": "code",
   "execution_count": 9,
   "id": "4f85cc35-0a5e-4ccb-a96f-95aaa026b788",
   "metadata": {},
   "outputs": [],
   "source": [
    "model=ConvolutionalNetwork()"
   ]
  },
  {
   "cell_type": "code",
   "execution_count": 10,
   "id": "7c8ae3c0-85da-4a0b-8aba-e4234d81e61f",
   "metadata": {},
   "outputs": [],
   "source": [
    "criterion=nn.CrossEntropyLoss()\n",
    "optimizer=torch.optim.Adam(model.parameters(),lr=0.001)"
   ]
  },
  {
   "cell_type": "code",
   "execution_count": 11,
   "id": "721e059b-731a-4b11-99b6-599d69c48230",
   "metadata": {},
   "outputs": [
    {
     "name": "stdout",
     "output_type": "stream",
     "text": [
      "Time taken : 215.1321668624878\n"
     ]
    }
   ],
   "source": [
    "import time\n",
    "start_time=time.time()\n",
    "epochs=5\n",
    "train_losses=[]\n",
    "test_losses=[]\n",
    "train_correct=[]\n",
    "test_correct=[]\n",
    "for i in range(epochs):\n",
    "    trn_corr=0\n",
    "    tst_corr=0\n",
    "    for batch,(x_train,y_train) in enumerate(train_loader):\n",
    "        batch+=1\n",
    "        y_predicted=model(x_train)\n",
    "        loss=criterion(y_predicted,y_train)\n",
    "        predicted=torch.max(y_predicted.data,1)[1]\n",
    "        batch_correct= (predicted== y_train).sum()\n",
    "        trn_corr += batch_correct\n",
    "        optimizer.zero_grad()\n",
    "        loss.backward()\n",
    "        optimizer.step()\n",
    "    train_losses.append(loss)\n",
    "    train_correct.append(trn_corr)\n",
    "\n",
    "\n",
    "    with torch.no_grad():\n",
    "        for batch,(x_test,y_test) in enumerate (test_loader):\n",
    "            y_value=model(x_test)\n",
    "            predicted=torch.max(y_value.data,1)[1]\n",
    "            tst_corr += (predicted==y_test).sum()\n",
    "    loss=criterion(y_value,y_test)\n",
    "    test_losses.append(loss)\n",
    "    test_correct.append(tst_corr)\n",
    "\n",
    "current_time=time.time()\n",
    "total_time=current_time-start_time\n",
    "print(f\"Time taken : {total_time}\")"
   ]
  },
  {
   "cell_type": "code",
   "execution_count": 12,
   "id": "17039c77-30d1-4eab-a323-006d918303ed",
   "metadata": {},
   "outputs": [
    {
     "data": {
      "text/plain": [
       "<matplotlib.legend.Legend at 0x21d99e841d0>"
      ]
     },
     "execution_count": 12,
     "metadata": {},
     "output_type": "execute_result"
    },
    {
     "data": {
      "image/png": "[encoded data removed]",
      "text/plain": [
       "<Figure size 640x480 with 1 Axes>"
      ]
     },
     "metadata": {},
     "output_type": "display_data"
    }
   ],
   "source": [
    "num_train_losses=[i.detach().numpy() for i in train_losses]\n",
    "num_test_losses=[i.detach().numpy() for i in test_losses]\n",
    "plt.plot(num_train_losses,label='train_loss')\n",
    "plt.plot(num_test_losses,label='validation loss')\n",
    "plt.legend()"
   ]
  },
  {
   "cell_type": "code",
   "execution_count": 13,
   "id": "8f48d1e7-6124-4ca6-980b-04a326fd406f",
   "metadata": {},
   "outputs": [
    {
     "data": {
      "image/png": "[encoded data removed]",
      "text/plain": [
       "<Figure size 640x480 with 1 Axes>"
      ]
     },
     "metadata": {},
     "output_type": "display_data"
    }
   ],
   "source": [
    "plt.plot([t/600 for t in train_correct],label='training accuracy')\n",
    "plt.plot([t/600 for t in test_correct],label='validation accuracy')\n",
    "plt.legend();"
   ]
  },
  {
   "cell_type": "code",
   "execution_count": 14,
   "id": "98718192-cc87-4b05-bad0-facd65ff7e64",
   "metadata": {},
   "outputs": [],
   "source": [
    "test_load_all = DataLoader(test_data, batch_size=10000, shuffle=False)"
   ]
  },
  {
   "cell_type": "code",
   "execution_count": 15,
   "id": "469bbe74-79bb-4fcc-85b4-e762403c301b",
   "metadata": {},
   "outputs": [
    {
     "name": "stdout",
     "output_type": "stream",
     "text": [
      "Test accuracy: 59462/60000 =  99.103%\n"
     ]
    }
   ],
   "source": [
    "with torch.no_grad():\n",
    "    correct = 0\n",
    "    for x_test, y_test in test_load_all:\n",
    "        y_val = model(x_test)  # we don't flatten the data this time\n",
    "        predicted = torch.max(y_val,1)[1]\n",
    "        correct += (predicted == y_test).sum()\n",
    "print(f'Test accuracy: {correct.item()}/{len(test_data)} = {correct.item()*100/(len(test_data)):7.3f}%')"
   ]
  },
  {
   "cell_type": "code",
   "execution_count": 16,
   "id": "f98b5947-38a5-4f46-8164-f86ec7fce7ff",
   "metadata": {},
   "outputs": [
    {
     "name": "stdout",
     "output_type": "stream",
     "text": [
      "tensor(7)\n",
      "tensor(9)\n",
      "tensor(8)\n",
      "tensor(7)\n",
      "tensor(2)\n",
      "tensor(9)\n",
      "tensor(9)\n",
      "tensor(7)\n",
      "tensor(5)\n",
      "tensor(7)\n",
      "tensor(9)\n",
      "tensor(9)\n",
      "tensor(7)\n",
      "tensor(2)\n",
      "tensor(6)\n",
      "tensor(2)\n",
      "tensor(4)\n",
      "tensor(2)\n",
      "tensor(6)\n",
      "tensor(8)\n",
      "tensor(9)\n",
      "tensor(7)\n",
      "tensor(7)\n",
      "tensor(5)\n",
      "tensor(8)\n",
      "tensor(7)\n",
      "tensor(2)\n",
      "tensor(5)\n",
      "tensor(2)\n",
      "tensor(5)\n",
      "tensor(7)\n",
      "tensor(9)\n",
      "tensor(9)\n",
      "tensor(4)\n",
      "tensor(7)\n",
      "tensor(7)\n",
      "tensor(7)\n",
      "tensor(5)\n",
      "tensor(2)\n",
      "tensor(8)\n",
      "tensor(7)\n",
      "tensor(7)\n",
      "tensor(9)\n",
      "tensor(3)\n",
      "tensor(7)\n",
      "tensor(4)\n",
      "tensor(9)\n",
      "tensor(7)\n",
      "tensor(7)\n",
      "tensor(4)\n",
      "tensor(5)\n",
      "tensor(7)\n",
      "tensor(9)\n",
      "tensor(4)\n",
      "tensor(9)\n",
      "tensor(7)\n",
      "tensor(7)\n",
      "tensor(5)\n",
      "tensor(2)\n",
      "tensor(4)\n",
      "tensor(2)\n",
      "tensor(2)\n",
      "tensor(4)\n",
      "tensor(9)\n",
      "tensor(9)\n",
      "tensor(5)\n",
      "tensor(7)\n",
      "tensor(7)\n",
      "tensor(7)\n",
      "tensor(7)\n",
      "tensor(7)\n",
      "tensor(9)\n",
      "tensor(9)\n",
      "tensor(9)\n",
      "tensor(2)\n",
      "tensor(7)\n",
      "tensor(7)\n",
      "tensor(7)\n",
      "tensor(7)\n",
      "tensor(5)\n",
      "tensor(3)\n",
      "tensor(7)\n",
      "tensor(7)\n",
      "tensor(5)\n",
      "tensor(2)\n",
      "tensor(7)\n",
      "tensor(7)\n",
      "tensor(7)\n",
      "tensor(4)\n",
      "tensor(7)\n",
      "Number of misses are :90\n"
     ]
    }
   ],
   "source": [
    "misses=[]\n",
    "num_y_predicted=[i for i in predicted]\n",
    "num_y_test=[i for i in y_test]\n",
    "for i in range(len(num_y_predicted)):\n",
    "    if((num_y_predicted[i]) != (y_test[i])):\n",
    "        misses.append(y_test[i])\n",
    "for i in misses:\n",
    "    print(i)\n",
    "\n",
    "print(f\"Number of misses are :{len(misses)}\")"
   ]
  },
  {
   "cell_type": "code",
   "execution_count": 18,
   "id": "b8904de2",
   "metadata": {},
   "outputs": [
    {
     "name": "stdout",
     "output_type": "stream",
     "text": [
      "[[   0    1    2    3    4    5    6    7    8    9]]\n",
      "\n",
      "[[ 991    0    2    0    1    2    0    1    0    3]\n",
      " [   0 1064    7    0    5    0    0   10    0    2]\n",
      " [   0    0  978    0    0    1    0    4    1    0]\n",
      " [   0    0    1 1028    0    3    0    8    0    2]\n",
      " [   0    0    0    0  975    0    1    2    0    6]\n",
      " [   0    0    0    1    0  905    0    1    1    0]\n",
      " [   0    0    0    0    0    1  965    0    0    0]\n",
      " [   0    0    0    0    0    0    0 1055    0    1]\n",
      " [   0    0    2    1    0    3    1    2 1005    3]\n",
      " [   0    0    0    0    2    0    0    7    2  944]]\n"
     ]
    }
   ],
   "source": [
    "from sklearn.metrics import confusion_matrix\n",
    "np.set_printoptions(formatter=dict(int=lambda x: f'{x:4}'))\n",
    "print(np.arange(10).reshape(1,10))\n",
    "print()\n",
    "\n",
    "# print the confusion matrix\n",
    "print(confusion_matrix(predicted.view(-1), y_test.view(-1)))"
   ]
  }
 ],
 "metadata": {
  "kernelspec": {
   "display_name": "Python 3 (ipykernel)",
   "language": "python",
   "name": "python3"
  },
  "language_info": {
   "codemirror_mode": {
    "name": "ipython",
    "version": 3
   },
   "file_extension": ".py",
   "mimetype": "text/x-python",
   "name": "python",
   "nbconvert_exporter": "python",
   "pygments_lexer": "ipython3",
   "version": "3.12.4"
  }
 },
 "nbformat": 4,
 "nbformat_minor": 5
}
